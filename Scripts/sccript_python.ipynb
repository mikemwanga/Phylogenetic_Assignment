{
 "cells": [
  {
   "cell_type": "code",
   "execution_count": 4,
   "metadata": {},
   "outputs": [],
   "source": [
    "import pandas as pd"
   ]
  },
  {
   "cell_type": "code",
   "execution_count": 6,
   "metadata": {},
   "outputs": [],
   "source": [
    "file = './Data/SNPs_original_out.txt'\n",
    "\n",
    "data = pd.read_table(file, delimiter='\\t')\n",
    "\n",
    "first = data.iloc[-1000:] #extract the last 1000 lines\n",
    "\n",
    "ntds = (first.iloc[:,3:]).transpose() #get the sample columns and transpose for ease of manupilation\n",
    "\n",
    "ntds.to_csv('./Data/last_1000.txt')"
   ]
  },
  {
   "cell_type": "code",
   "execution_count": 48,
   "metadata": {},
   "outputs": [],
   "source": [
    "with open('./Data/last_1000.txt','r') as f:\n",
    "    with open('./Data/seq.txt','w') as seq:\n",
    "        next(f)\n",
    "        for line in f:\n",
    "            l = 0\n",
    "            \n",
    "            fasta = '>'+line.split(',')[l] +'\\n'+ \"\".join(line.split(',')[1:])\n",
    "            l=l+1\n",
    "\n",
    "            seq.write(fasta)\n",
    "           \n",
    "            \n",
    "    "
   ]
  },
  {
   "cell_type": "code",
   "execution_count": null,
   "metadata": {},
   "outputs": [],
   "source": []
  }
 ],
 "metadata": {
  "kernelspec": {
   "display_name": "Python 3",
   "language": "python",
   "name": "python3"
  },
  "language_info": {
   "codemirror_mode": {
    "name": "ipython",
    "version": 3
   },
   "file_extension": ".py",
   "mimetype": "text/x-python",
   "name": "python",
   "nbconvert_exporter": "python",
   "pygments_lexer": "ipython3",
   "version": "3.7.5"
  }
 },
 "nbformat": 4,
 "nbformat_minor": 4
}
